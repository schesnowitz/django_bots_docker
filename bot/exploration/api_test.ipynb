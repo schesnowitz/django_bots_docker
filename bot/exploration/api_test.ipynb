{
 "cells": [
  {
   "cell_type": "code",
   "execution_count": 2,
   "id": "8eee9487-bc32-477f-8629-b86845234770",
   "metadata": {},
   "outputs": [],
   "source": [
    "import requests\n",
    "import pandas as pd\n",
    "import json\n",
    "from dateutil import parser"
   ]
  },
  {
   "cell_type": "code",
   "execution_count": 3,
   "id": "6e29ccd0-a3a5-42c9-88bf-ebbea68786f3",
   "metadata": {},
   "outputs": [],
   "source": [
    "API_KEY = \"fb4c44655fe8a67467f67b6094ac3131-f3c5917cdf6b414289e70296954153fe\"\n",
    "ACCOUNT_ID = \"101-001-27615226-001\"\n",
    "OANDA_URL = \"https://api-fxpractice.oanda.com/v3/\""
   ]
  },
  {
   "cell_type": "code",
   "execution_count": 4,
   "id": "ba8bcfd2-fb2f-4ca0-bea6-038264156419",
   "metadata": {},
   "outputs": [],
   "source": [
    "session = requests.Session()"
   ]
  },
  {
   "cell_type": "code",
   "execution_count": 5,
   "id": "e0bf109c-7b16-477c-a879-25f4c642d670",
   "metadata": {},
   "outputs": [],
   "source": [
    "session.headers.update({\n",
    "    \"Authorization\": f\"Bearer {API_KEY}\",\n",
    "    \"Content-Type\": \"application/json\"\n",
    "})"
   ]
  },
  {
   "cell_type": "code",
   "execution_count": 6,
   "id": "906294ff-9964-4f84-a79a-22cc5a4f9798",
   "metadata": {},
   "outputs": [],
   "source": [
    "params = ({\n",
    "    \"count\" : 10,\n",
    "    \"granularity\" : \"H1\",\n",
    "    \"price\" : \"MBA\" \n",
    "})"
   ]
  },
  {
   "cell_type": "code",
   "execution_count": 7,
   "id": "1da0093b-b717-4f8a-9248-4c8131c82d48",
   "metadata": {},
   "outputs": [],
   "source": [
    "url = f\"{OANDA_URL}/accounts/{ACCOUNT_ID}/instruments\""
   ]
  },
  {
   "cell_type": "code",
   "execution_count": 8,
   "id": "9817b2fd-780c-4b51-a3ca-c4b56876a29a",
   "metadata": {},
   "outputs": [],
   "source": [
    "response = session.get(url=url, params=None, data=None, headers=None)"
   ]
  },
  {
   "cell_type": "code",
   "execution_count": 9,
   "id": "6358d896-a308-4f38-9178-b2ba988b0131",
   "metadata": {},
   "outputs": [
    {
     "data": {
      "text/plain": [
       "200"
      ]
     },
     "execution_count": 9,
     "metadata": {},
     "output_type": "execute_result"
    }
   ],
   "source": [
    "response.status_code"
   ]
  },
  {
   "cell_type": "code",
   "execution_count": 10,
   "id": "f36605c5-29b0-4413-b08c-25255d973aba",
   "metadata": {},
   "outputs": [],
   "source": [
    "json_data = response.json()"
   ]
  },
  {
   "cell_type": "code",
   "execution_count": 11,
   "id": "ba0f9d58-969c-43a4-887e-88a533992467",
   "metadata": {},
   "outputs": [],
   "source": [
    "# data.keys()\n",
    "instrument_list = json_data[\"instruments\"]"
   ]
  },
  {
   "cell_type": "code",
   "execution_count": 12,
   "id": "06dffc08-1bb6-436c-abd7-2d6a9d9787bc",
   "metadata": {},
   "outputs": [
    {
     "data": {
      "text/plain": [
       "dict_keys(['name', 'type', 'displayName', 'pipLocation', 'displayPrecision', 'tradeUnitsPrecision', 'minimumTradeSize', 'maximumTrailingStopDistance', 'minimumTrailingStopDistance', 'maximumPositionSize', 'maximumOrderUnits', 'marginRate', 'guaranteedStopLossOrderMode', 'tags', 'financing'])"
      ]
     },
     "execution_count": 12,
     "metadata": {},
     "output_type": "execute_result"
    }
   ],
   "source": [
    "len(instrument_list)\n",
    "instrument_list[0].keys()"
   ]
  },
  {
   "cell_type": "code",
   "execution_count": 13,
   "id": "d8adea07-b672-41c9-b937-f675bbbda69a",
   "metadata": {},
   "outputs": [],
   "source": [
    "key_of_interest = ['name', 'type', 'displayName', 'pipLocation', 'displayPrecision', 'tradeUnitsPrecision', 'marginRate']"
   ]
  },
  {
   "cell_type": "code",
   "execution_count": 14,
   "id": "fdc5a244-6edd-4f94-b807-9c1924ab5f40",
   "metadata": {},
   "outputs": [],
   "source": [
    "instruments_dict = {}\n",
    "for i in instrument_list:\n",
    "    key = (i[\"name\"])\n",
    "    instruments_dict[key] = {k: i[k] for k in key_of_interest}\n",
    "    "
   ]
  },
  {
   "cell_type": "code",
   "execution_count": 15,
   "id": "9c96a991-5e31-411b-bfdb-a0abb797456e",
   "metadata": {},
   "outputs": [],
   "source": [
    "# instruments_dict"
   ]
  },
  {
   "cell_type": "code",
   "execution_count": 16,
   "id": "1bf9ebb5-992e-4165-9a50-586cb086a226",
   "metadata": {},
   "outputs": [],
   "source": [
    "with open(\"../data/instruments.json\", 'w') as f:\n",
    "    f.write(json.dumps(instruments_dict, indent=2))"
   ]
  },
  {
   "cell_type": "code",
   "execution_count": 29,
   "id": "880a87a8-b6fd-4679-9111-cd10a14777fc",
   "metadata": {},
   "outputs": [],
   "source": [
    "def fetch_candles(pair_name, count=10, granularity=\"H1\"):\n",
    "    url = f\"{OANDA_URL}/instruments/{pair_name}/candles\"\n",
    "    params = dict(\n",
    "        count = count,\n",
    "        granularity = granularity,\n",
    "        price = \"MBA\"\n",
    "    )\n",
    "    response = session.get(url, params=params, data=None, headers=None)\n",
    "    data = response.json()\n",
    "    \n",
    "    if response.status_code == 200:\n",
    "        if 'candles' not in data:\n",
    "            data = []\n",
    "        else:\n",
    "            data = data['candles']\n",
    "    return response.status_code, data\n",
    "\n",
    "def get_candles_df(data):\n",
    "    if len(data) == 0:\n",
    "        return pd.DataFrame.empty\n",
    "    \n",
    "    prices = ['mid', 'bid', 'ask']\n",
    "    ohlc = ['o', 'h', 'l', 'c']\n",
    "    \n",
    "    final_data = []\n",
    "    for candle in data:\n",
    "        if candle['complete'] == False:\n",
    "            continue\n",
    "        new_dict = {}\n",
    "        new_dict['time'] = parser.parse(candle['time'])\n",
    "        new_dict['volume'] = candle['volume']\n",
    "        for p in prices:\n",
    "            for o in ohlc:\n",
    "                new_dict[f\"{p}_{o}\"] = float(candle[p][o])\n",
    "        final_data.append(new_dict)\n",
    "    df = pd.DataFrame.from_dict(final_data)\n",
    "    return df\n",
    "\n",
    "def create_data_file(pair_name, count=10, granularity=\"H1\"):\n",
    "    code, data = fetch_candles(pair_name, count, granularity)\n",
    "    if code != 200:\n",
    "        print(\"Failed\", pair_name, data)\n",
    "        return\n",
    "    if len(data) == 0:\n",
    "        print(\"No candles\", pair_name)\n",
    "    candles_df = get_candles_df(data)\n",
    "    candles_df.to_pickle(f\"../data/{pair_name}_{granularity}.pkl\")\n",
    "    print(f\"{pair_name} {granularity} {candles_df.shape[0]} candles, {candles_df.time.min()} {candles_df.time.max()}\")\n",
    "    \n"
   ]
  },
  {
   "cell_type": "code",
   "execution_count": 30,
   "id": "cb105e2b-a730-4501-bdd4-a1ddfe644dbb",
   "metadata": {},
   "outputs": [],
   "source": [
    "code, data = fetch_candles(\"EUR_USD\", count=10, granularity=\"H4\")\n",
    "candles_df = get_candles_df(data)"
   ]
  },
  {
   "cell_type": "code",
   "execution_count": 19,
   "id": "0d11a13d-d4d8-4c0d-87dd-7f573b229e69",
   "metadata": {},
   "outputs": [],
   "source": [
    "# create_data_file(\"USD_CAD\", count-20, granularity=\"H1\")\n"
   ]
  },
  {
   "cell_type": "code",
   "execution_count": 25,
   "id": "f4f9c947-4e54-4253-9695-c53d4211a76f",
   "metadata": {},
   "outputs": [
    {
     "name": "stdout",
     "output_type": "stream",
     "text": [
      "EUR_USD H1 100 candles saved 2023-11-09 06:00:00+00:00 2023-12-01 18:00:00+00:00\n",
      "EUR_USD H4 100 candles saved 2023-11-09 06:00:00+00:00 2023-12-01 18:00:00+00:00\n",
      "EUR_USD D 100 candles saved 2023-11-09 06:00:00+00:00 2023-12-01 18:00:00+00:00\n",
      "EUR_GBP H1 100 candles saved 2023-11-09 06:00:00+00:00 2023-12-01 18:00:00+00:00\n",
      "EUR_GBP H4 100 candles saved 2023-11-09 06:00:00+00:00 2023-12-01 18:00:00+00:00\n",
      "EUR_GBP D 100 candles saved 2023-11-09 06:00:00+00:00 2023-12-01 18:00:00+00:00\n",
      "EUR_JPY H1 100 candles saved 2023-11-09 06:00:00+00:00 2023-12-01 18:00:00+00:00\n",
      "EUR_JPY H4 100 candles saved 2023-11-09 06:00:00+00:00 2023-12-01 18:00:00+00:00\n",
      "EUR_JPY D 100 candles saved 2023-11-09 06:00:00+00:00 2023-12-01 18:00:00+00:00\n",
      "EUR_CHF H1 100 candles saved 2023-11-09 06:00:00+00:00 2023-12-01 18:00:00+00:00\n",
      "EUR_CHF H4 100 candles saved 2023-11-09 06:00:00+00:00 2023-12-01 18:00:00+00:00\n",
      "EUR_CHF D 100 candles saved 2023-11-09 06:00:00+00:00 2023-12-01 18:00:00+00:00\n",
      "EUR_NZD H1 100 candles saved 2023-11-09 06:00:00+00:00 2023-12-01 18:00:00+00:00\n",
      "EUR_NZD H4 100 candles saved 2023-11-09 06:00:00+00:00 2023-12-01 18:00:00+00:00\n",
      "EUR_NZD D 100 candles saved 2023-11-09 06:00:00+00:00 2023-12-01 18:00:00+00:00\n",
      "EUR_CAD H1 100 candles saved 2023-11-09 06:00:00+00:00 2023-12-01 18:00:00+00:00\n",
      "EUR_CAD H4 100 candles saved 2023-11-09 06:00:00+00:00 2023-12-01 18:00:00+00:00\n",
      "EUR_CAD D 100 candles saved 2023-11-09 06:00:00+00:00 2023-12-01 18:00:00+00:00\n",
      "EUR_AUD H1 100 candles saved 2023-11-09 06:00:00+00:00 2023-12-01 18:00:00+00:00\n",
      "EUR_AUD H4 100 candles saved 2023-11-09 06:00:00+00:00 2023-12-01 18:00:00+00:00\n",
      "EUR_AUD D 100 candles saved 2023-11-09 06:00:00+00:00 2023-12-01 18:00:00+00:00\n",
      "USD_JPY H1 100 candles saved 2023-11-09 06:00:00+00:00 2023-12-01 18:00:00+00:00\n",
      "USD_JPY H4 100 candles saved 2023-11-09 06:00:00+00:00 2023-12-01 18:00:00+00:00\n",
      "USD_JPY D 100 candles saved 2023-11-09 06:00:00+00:00 2023-12-01 18:00:00+00:00\n",
      "USD_CHF H1 100 candles saved 2023-11-09 06:00:00+00:00 2023-12-01 18:00:00+00:00\n",
      "USD_CHF H4 100 candles saved 2023-11-09 06:00:00+00:00 2023-12-01 18:00:00+00:00\n",
      "USD_CHF D 100 candles saved 2023-11-09 06:00:00+00:00 2023-12-01 18:00:00+00:00\n",
      "USD_CAD H1 100 candles saved 2023-11-09 06:00:00+00:00 2023-12-01 18:00:00+00:00\n",
      "USD_CAD H4 100 candles saved 2023-11-09 06:00:00+00:00 2023-12-01 18:00:00+00:00\n",
      "USD_CAD D 100 candles saved 2023-11-09 06:00:00+00:00 2023-12-01 18:00:00+00:00\n",
      "GBP_USD H1 100 candles saved 2023-11-09 06:00:00+00:00 2023-12-01 18:00:00+00:00\n",
      "GBP_USD H4 100 candles saved 2023-11-09 06:00:00+00:00 2023-12-01 18:00:00+00:00\n",
      "GBP_USD D 100 candles saved 2023-11-09 06:00:00+00:00 2023-12-01 18:00:00+00:00\n",
      "GBP_JPY H1 100 candles saved 2023-11-09 06:00:00+00:00 2023-12-01 18:00:00+00:00\n",
      "GBP_JPY H4 100 candles saved 2023-11-09 06:00:00+00:00 2023-12-01 18:00:00+00:00\n",
      "GBP_JPY D 100 candles saved 2023-11-09 06:00:00+00:00 2023-12-01 18:00:00+00:00\n",
      "GBP_CHF H1 100 candles saved 2023-11-09 06:00:00+00:00 2023-12-01 18:00:00+00:00\n",
      "GBP_CHF H4 100 candles saved 2023-11-09 06:00:00+00:00 2023-12-01 18:00:00+00:00\n",
      "GBP_CHF D 100 candles saved 2023-11-09 06:00:00+00:00 2023-12-01 18:00:00+00:00\n",
      "GBP_NZD H1 100 candles saved 2023-11-09 06:00:00+00:00 2023-12-01 18:00:00+00:00\n",
      "GBP_NZD H4 100 candles saved 2023-11-09 06:00:00+00:00 2023-12-01 18:00:00+00:00\n",
      "GBP_NZD D 100 candles saved 2023-11-09 06:00:00+00:00 2023-12-01 18:00:00+00:00\n",
      "GBP_CAD H1 100 candles saved 2023-11-09 06:00:00+00:00 2023-12-01 18:00:00+00:00\n",
      "GBP_CAD H4 100 candles saved 2023-11-09 06:00:00+00:00 2023-12-01 18:00:00+00:00\n",
      "GBP_CAD D 100 candles saved 2023-11-09 06:00:00+00:00 2023-12-01 18:00:00+00:00\n",
      "GBP_AUD H1 100 candles saved 2023-11-09 06:00:00+00:00 2023-12-01 18:00:00+00:00\n",
      "GBP_AUD H4 100 candles saved 2023-11-09 06:00:00+00:00 2023-12-01 18:00:00+00:00\n",
      "GBP_AUD D 100 candles saved 2023-11-09 06:00:00+00:00 2023-12-01 18:00:00+00:00\n",
      "CHF_JPY H1 100 candles saved 2023-11-09 06:00:00+00:00 2023-12-01 18:00:00+00:00\n",
      "CHF_JPY H4 100 candles saved 2023-11-09 06:00:00+00:00 2023-12-01 18:00:00+00:00\n",
      "CHF_JPY D 100 candles saved 2023-11-09 06:00:00+00:00 2023-12-01 18:00:00+00:00\n",
      "NZD_USD H1 100 candles saved 2023-11-09 06:00:00+00:00 2023-12-01 18:00:00+00:00\n",
      "NZD_USD H4 100 candles saved 2023-11-09 06:00:00+00:00 2023-12-01 18:00:00+00:00\n",
      "NZD_USD D 100 candles saved 2023-11-09 06:00:00+00:00 2023-12-01 18:00:00+00:00\n",
      "NZD_JPY H1 100 candles saved 2023-11-09 06:00:00+00:00 2023-12-01 18:00:00+00:00\n",
      "NZD_JPY H4 100 candles saved 2023-11-09 06:00:00+00:00 2023-12-01 18:00:00+00:00\n",
      "NZD_JPY D 100 candles saved 2023-11-09 06:00:00+00:00 2023-12-01 18:00:00+00:00\n",
      "NZD_CHF H1 100 candles saved 2023-11-09 06:00:00+00:00 2023-12-01 18:00:00+00:00\n",
      "NZD_CHF H4 100 candles saved 2023-11-09 06:00:00+00:00 2023-12-01 18:00:00+00:00\n",
      "NZD_CHF D 100 candles saved 2023-11-09 06:00:00+00:00 2023-12-01 18:00:00+00:00\n",
      "NZD_CAD H1 100 candles saved 2023-11-09 06:00:00+00:00 2023-12-01 18:00:00+00:00\n",
      "NZD_CAD H4 100 candles saved 2023-11-09 06:00:00+00:00 2023-12-01 18:00:00+00:00\n",
      "NZD_CAD D 100 candles saved 2023-11-09 06:00:00+00:00 2023-12-01 18:00:00+00:00\n",
      "CAD_JPY H1 100 candles saved 2023-11-09 06:00:00+00:00 2023-12-01 18:00:00+00:00\n",
      "CAD_JPY H4 100 candles saved 2023-11-09 06:00:00+00:00 2023-12-01 18:00:00+00:00\n",
      "CAD_JPY D 100 candles saved 2023-11-09 06:00:00+00:00 2023-12-01 18:00:00+00:00\n",
      "CAD_CHF H1 100 candles saved 2023-11-09 06:00:00+00:00 2023-12-01 18:00:00+00:00\n",
      "CAD_CHF H4 100 candles saved 2023-11-09 06:00:00+00:00 2023-12-01 18:00:00+00:00\n",
      "CAD_CHF D 100 candles saved 2023-11-09 06:00:00+00:00 2023-12-01 18:00:00+00:00\n",
      "AUD_USD H1 100 candles saved 2023-11-09 06:00:00+00:00 2023-12-01 18:00:00+00:00\n",
      "AUD_USD H4 100 candles saved 2023-11-09 06:00:00+00:00 2023-12-01 18:00:00+00:00\n",
      "AUD_USD D 100 candles saved 2023-11-09 06:00:00+00:00 2023-12-01 18:00:00+00:00\n",
      "AUD_JPY H1 100 candles saved 2023-11-09 06:00:00+00:00 2023-12-01 18:00:00+00:00\n",
      "AUD_JPY H4 100 candles saved 2023-11-09 06:00:00+00:00 2023-12-01 18:00:00+00:00\n",
      "AUD_JPY D 100 candles saved 2023-11-09 06:00:00+00:00 2023-12-01 18:00:00+00:00\n",
      "AUD_CHF H1 100 candles saved 2023-11-09 06:00:00+00:00 2023-12-01 18:00:00+00:00\n",
      "AUD_CHF H4 100 candles saved 2023-11-09 06:00:00+00:00 2023-12-01 18:00:00+00:00\n",
      "AUD_CHF D 100 candles saved 2023-11-09 06:00:00+00:00 2023-12-01 18:00:00+00:00\n",
      "AUD_NZD H1 100 candles saved 2023-11-09 06:00:00+00:00 2023-12-01 18:00:00+00:00\n",
      "AUD_NZD H4 100 candles saved 2023-11-09 06:00:00+00:00 2023-12-01 18:00:00+00:00\n",
      "AUD_NZD D 100 candles saved 2023-11-09 06:00:00+00:00 2023-12-01 18:00:00+00:00\n",
      "AUD_CAD H1 100 candles saved 2023-11-09 06:00:00+00:00 2023-12-01 18:00:00+00:00\n",
      "AUD_CAD H4 100 candles saved 2023-11-09 06:00:00+00:00 2023-12-01 18:00:00+00:00\n",
      "AUD_CAD D 100 candles saved 2023-11-09 06:00:00+00:00 2023-12-01 18:00:00+00:00\n"
     ]
    }
   ],
   "source": [
    "\n",
    "our_currency = [\"EUR\", \"USD\", \"GBP\", \"JPY\", \"CHF\", \"NZD\", \"CAD\", \"AUD\"]\n",
    "for cp1 in our_currency:\n",
    "    for cp2 in our_currency:\n",
    "        cp = f\"{cp1}_{cp2}\"\n",
    "        if cp in instruments_dict:\n",
    "            for timeframe in[\"H1\", \"H4\", \"D\"]:\n",
    "                create_data_file(cp, count=4001, granularity=timeframe)"
   ]
  },
  {
   "cell_type": "code",
   "execution_count": 27,
   "id": "0e31e3ca-9fc7-4d16-b5ca-6384d59dfcea",
   "metadata": {},
   "outputs": [
    {
     "name": "stdout",
     "output_type": "stream",
     "text": [
      "EUR_USD H1 100 candles saved 2023-11-09 06:00:00+00:00 2023-12-01 18:00:00+00:00\n",
      "EUR_USD H4 100 candles saved 2023-11-09 06:00:00+00:00 2023-12-01 18:00:00+00:00\n",
      "EUR_GBP H1 100 candles saved 2023-11-09 06:00:00+00:00 2023-12-01 18:00:00+00:00\n",
      "EUR_GBP H4 100 candles saved 2023-11-09 06:00:00+00:00 2023-12-01 18:00:00+00:00\n",
      "EUR_JPY H1 100 candles saved 2023-11-09 06:00:00+00:00 2023-12-01 18:00:00+00:00\n",
      "EUR_JPY H4 100 candles saved 2023-11-09 06:00:00+00:00 2023-12-01 18:00:00+00:00\n",
      "EUR_CHF H1 100 candles saved 2023-11-09 06:00:00+00:00 2023-12-01 18:00:00+00:00\n",
      "EUR_CHF H4 100 candles saved 2023-11-09 06:00:00+00:00 2023-12-01 18:00:00+00:00\n",
      "EUR_NZD H1 100 candles saved 2023-11-09 06:00:00+00:00 2023-12-01 18:00:00+00:00\n",
      "EUR_NZD H4 100 candles saved 2023-11-09 06:00:00+00:00 2023-12-01 18:00:00+00:00\n",
      "EUR_CAD H1 100 candles saved 2023-11-09 06:00:00+00:00 2023-12-01 18:00:00+00:00\n",
      "EUR_CAD H4 100 candles saved 2023-11-09 06:00:00+00:00 2023-12-01 18:00:00+00:00\n",
      "EUR_AUD H1 100 candles saved 2023-11-09 06:00:00+00:00 2023-12-01 18:00:00+00:00\n",
      "EUR_AUD H4 100 candles saved 2023-11-09 06:00:00+00:00 2023-12-01 18:00:00+00:00\n",
      "USD_JPY H1 100 candles saved 2023-11-09 06:00:00+00:00 2023-12-01 18:00:00+00:00\n",
      "USD_JPY H4 100 candles saved 2023-11-09 06:00:00+00:00 2023-12-01 18:00:00+00:00\n",
      "USD_CHF H1 100 candles saved 2023-11-09 06:00:00+00:00 2023-12-01 18:00:00+00:00\n",
      "USD_CHF H4 100 candles saved 2023-11-09 06:00:00+00:00 2023-12-01 18:00:00+00:00\n",
      "USD_CAD H1 100 candles saved 2023-11-09 06:00:00+00:00 2023-12-01 18:00:00+00:00\n",
      "USD_CAD H4 100 candles saved 2023-11-09 06:00:00+00:00 2023-12-01 18:00:00+00:00\n",
      "GBP_USD H1 100 candles saved 2023-11-09 06:00:00+00:00 2023-12-01 18:00:00+00:00\n",
      "GBP_USD H4 100 candles saved 2023-11-09 06:00:00+00:00 2023-12-01 18:00:00+00:00\n",
      "GBP_JPY H1 100 candles saved 2023-11-09 06:00:00+00:00 2023-12-01 18:00:00+00:00\n",
      "GBP_JPY H4 100 candles saved 2023-11-09 06:00:00+00:00 2023-12-01 18:00:00+00:00\n",
      "GBP_CHF H1 100 candles saved 2023-11-09 06:00:00+00:00 2023-12-01 18:00:00+00:00\n",
      "GBP_CHF H4 100 candles saved 2023-11-09 06:00:00+00:00 2023-12-01 18:00:00+00:00\n",
      "GBP_NZD H1 100 candles saved 2023-11-09 06:00:00+00:00 2023-12-01 18:00:00+00:00\n",
      "GBP_NZD H4 100 candles saved 2023-11-09 06:00:00+00:00 2023-12-01 18:00:00+00:00\n",
      "GBP_CAD H1 100 candles saved 2023-11-09 06:00:00+00:00 2023-12-01 18:00:00+00:00\n",
      "GBP_CAD H4 100 candles saved 2023-11-09 06:00:00+00:00 2023-12-01 18:00:00+00:00\n",
      "GBP_AUD H1 100 candles saved 2023-11-09 06:00:00+00:00 2023-12-01 18:00:00+00:00\n",
      "GBP_AUD H4 100 candles saved 2023-11-09 06:00:00+00:00 2023-12-01 18:00:00+00:00\n",
      "CHF_JPY H1 100 candles saved 2023-11-09 06:00:00+00:00 2023-12-01 18:00:00+00:00\n",
      "CHF_JPY H4 100 candles saved 2023-11-09 06:00:00+00:00 2023-12-01 18:00:00+00:00\n",
      "NZD_USD H1 100 candles saved 2023-11-09 06:00:00+00:00 2023-12-01 18:00:00+00:00\n",
      "NZD_USD H4 100 candles saved 2023-11-09 06:00:00+00:00 2023-12-01 18:00:00+00:00\n",
      "NZD_JPY H1 100 candles saved 2023-11-09 06:00:00+00:00 2023-12-01 18:00:00+00:00\n",
      "NZD_JPY H4 100 candles saved 2023-11-09 06:00:00+00:00 2023-12-01 18:00:00+00:00\n",
      "NZD_CHF H1 100 candles saved 2023-11-09 06:00:00+00:00 2023-12-01 18:00:00+00:00\n",
      "NZD_CHF H4 100 candles saved 2023-11-09 06:00:00+00:00 2023-12-01 18:00:00+00:00\n",
      "NZD_CAD H1 100 candles saved 2023-11-09 06:00:00+00:00 2023-12-01 18:00:00+00:00\n",
      "NZD_CAD H4 100 candles saved 2023-11-09 06:00:00+00:00 2023-12-01 18:00:00+00:00\n",
      "CAD_JPY H1 100 candles saved 2023-11-09 06:00:00+00:00 2023-12-01 18:00:00+00:00\n",
      "CAD_JPY H4 100 candles saved 2023-11-09 06:00:00+00:00 2023-12-01 18:00:00+00:00\n",
      "CAD_CHF H1 100 candles saved 2023-11-09 06:00:00+00:00 2023-12-01 18:00:00+00:00\n",
      "CAD_CHF H4 100 candles saved 2023-11-09 06:00:00+00:00 2023-12-01 18:00:00+00:00\n",
      "AUD_USD H1 100 candles saved 2023-11-09 06:00:00+00:00 2023-12-01 18:00:00+00:00\n",
      "AUD_USD H4 100 candles saved 2023-11-09 06:00:00+00:00 2023-12-01 18:00:00+00:00\n",
      "AUD_JPY H1 100 candles saved 2023-11-09 06:00:00+00:00 2023-12-01 18:00:00+00:00\n",
      "AUD_JPY H4 100 candles saved 2023-11-09 06:00:00+00:00 2023-12-01 18:00:00+00:00\n",
      "AUD_CHF H1 100 candles saved 2023-11-09 06:00:00+00:00 2023-12-01 18:00:00+00:00\n",
      "AUD_CHF H4 100 candles saved 2023-11-09 06:00:00+00:00 2023-12-01 18:00:00+00:00\n",
      "AUD_NZD H1 100 candles saved 2023-11-09 06:00:00+00:00 2023-12-01 18:00:00+00:00\n",
      "AUD_NZD H4 100 candles saved 2023-11-09 06:00:00+00:00 2023-12-01 18:00:00+00:00\n",
      "AUD_CAD H1 100 candles saved 2023-11-09 06:00:00+00:00 2023-12-01 18:00:00+00:00\n",
      "AUD_CAD H4 100 candles saved 2023-11-09 06:00:00+00:00 2023-12-01 18:00:00+00:00\n"
     ]
    }
   ],
   "source": [
    "our_curr = [\"EUR\", \"USD\", \"GBP\", \"JPY\", \"CHF\", \"NZD\", \"CAD\", \"AUD\"]\n",
    "for p1 in our_curr:\n",
    "    for p2 in our_curr:\n",
    "        pr = f\"{p1}_{p2}\"\n",
    "        if pr in instruments_dict:\n",
    "            for g in [\"H1\", \"H4\"]:\n",
    "                create_data_file(pr, count=4001, granularity=g)"
   ]
  },
  {
   "cell_type": "code",
   "execution_count": null,
   "id": "e98dac8d-945d-434b-8923-995b966ba9c7",
   "metadata": {},
   "outputs": [],
   "source": []
  }
 ],
 "metadata": {
  "kernelspec": {
   "display_name": "Python 3 (ipykernel)",
   "language": "python",
   "name": "python3"
  },
  "language_info": {
   "codemirror_mode": {
    "name": "ipython",
    "version": 3
   },
   "file_extension": ".py",
   "mimetype": "text/x-python",
   "name": "python",
   "nbconvert_exporter": "python",
   "pygments_lexer": "ipython3",
   "version": "3.10.0"
  }
 },
 "nbformat": 4,
 "nbformat_minor": 5
}
