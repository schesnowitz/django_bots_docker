{
 "cells": [
  {
   "cell_type": "code",
   "execution_count": null,
   "id": "e2359ca2-f23b-45ee-999b-e403a59a994e",
   "metadata": {},
   "outputs": [],
   "source": [
    "import sys\n",
    "sys.path.append(\"../\")\n",
    "import pandas as pd\n",
    "import datetime as dt\n",
    "import plotly.graph_objects as go\n",
    "from technicals.indicators import RSI\n",
    "from technicals.patterns import apply_patterns\n",
    "from plotting import CandlePlot"
   ]
  },
  {
   "cell_type": "code",
   "execution_count": null,
   "id": "d3a89c7c-d16e-46fe-b9e1-83b1e0ce8be9",
   "metadata": {},
   "outputs": [],
   "source": []
  },
  {
   "cell_type": "code",
   "execution_count": null,
   "id": "5eaf5ca3-96bd-462e-8591-fa314415e0a0",
   "metadata": {},
   "outputs": [],
   "source": [
    "df_raw = pd.read_pickle(\"../data/EUR_USD_H1.pkl\")"
   ]
  },
  {
   "cell_type": "code",
   "execution_count": null,
   "id": "e1ecc245-521a-494e-a73d-a9b120006659",
   "metadata": {},
   "outputs": [],
   "source": [
    "df_raw.shape"
   ]
  },
  {
   "cell_type": "code",
   "execution_count": null,
   "id": "f51fb44c-03fa-490c-b6cd-43ff9428ae0a",
   "metadata": {},
   "outputs": [],
   "source": [
    "# gets the last 6000 and creates a copy\n",
    "df_anal = df_raw.copy() # df_raw.iloc[-6000:].copy()\n",
    "df_anal.shape"
   ]
  },
  {
   "cell_type": "code",
   "execution_count": null,
   "id": "6ae6db53-f934-434a-981c-077d9f2b6bd7",
   "metadata": {},
   "outputs": [],
   "source": [
    "# put the patterns and the RSI onto the dataframe\n",
    "df_anal = RSI(df_anal)"
   ]
  },
  {
   "cell_type": "code",
   "execution_count": null,
   "id": "8b49c581-dce2-4df4-bc0e-2f948cc8fc25",
   "metadata": {},
   "outputs": [],
   "source": [
    "df_anal.head()"
   ]
  },
  {
   "cell_type": "code",
   "execution_count": null,
   "id": "9d74c5d2-d33b-456a-922a-8a1b36d39d6f",
   "metadata": {},
   "outputs": [],
   "source": [
    "# because RSI starts at 0 this will not work as our data index does not start there, so RSI is not working\n",
    "# what we do is\n",
    "df_anal.reset_index(drop=True, inplace=True)\n",
    "df_anal = RSI(df_anal)\n",
    "df_anal.head()"
   ]
  },
  {
   "cell_type": "code",
   "execution_count": null,
   "id": "39a4f8c7-85ad-421b-b084-cab0eec2e33a",
   "metadata": {},
   "outputs": [],
   "source": [
    "# RSI is 14 periouds so we look at tail\n",
    "df_anal.tail()"
   ]
  },
  {
   "cell_type": "code",
   "execution_count": null,
   "id": "de0c06a8-7454-461a-8f1f-5176663153be",
   "metadata": {},
   "outputs": [],
   "source": [
    "# to get the candle pattern  can see candle types \n",
    "df_anal = apply_patterns(df_anal)\n",
    "df_anal.tail()"
   ]
  },
  {
   "cell_type": "code",
   "execution_count": null,
   "id": "0d2a101e-9182-43d0-ac8e-cebfb3938dbe",
   "metadata": {},
   "outputs": [],
   "source": [
    "# apply the MA to the data\n",
    "df_anal['EMA_200'] = df_anal.mid_c.ewm(span=200, min_periods=200).mean()\n"
   ]
  },
  {
   "cell_type": "code",
   "execution_count": null,
   "id": "4b2ae8ad-d175-4c0d-97a8-bc1aeb937c85",
   "metadata": {},
   "outputs": [],
   "source": [
    "# CHECK WHAT COLUMNS WE HAVE\n",
    "df_anal.columns"
   ]
  },
  {
   "cell_type": "code",
   "execution_count": null,
   "id": "be212cfb-7298-463e-86e7-6289fb4b60f6",
   "metadata": {},
   "outputs": [],
   "source": [
    "# grab a subset pf columns\n",
    "the_cols = ['time', 'mid_o', 'mid_h', 'mid_l', 'mid_c', 'bid_c', 'ask_c', 'ENGULFING', 'direction', 'EMA_200', 'RSI_14']"
   ]
  },
  {
   "cell_type": "code",
   "execution_count": null,
   "id": "b342f3d6-b94c-4cf5-8f03-15c627d4da74",
   "metadata": {},
   "outputs": [],
   "source": [
    "# make df_slim dataframe\n",
    "df_slim = df_anal[the_cols].copy()"
   ]
  },
  {
   "cell_type": "code",
   "execution_count": null,
   "id": "73a49a61-e207-481c-8e43-9effb025c204",
   "metadata": {},
   "outputs": [],
   "source": [
    "df_slim.head(500)"
   ]
  },
  {
   "cell_type": "code",
   "execution_count": null,
   "id": "6e572332-e875-4d0f-bf59-28fad7a49b6c",
   "metadata": {},
   "outputs": [],
   "source": [
    "# to get rid of the NaN due to not enought periods\n",
    "df_slim.dropna(inplace=True)\n",
    "# do a index reset\n",
    "df_slim.reset_index(drop=True, inplace=True)\n"
   ]
  },
  {
   "cell_type": "code",
   "execution_count": null,
   "id": "f7c3b22b-d5f9-4c27-80bb-0e195603a553",
   "metadata": {},
   "outputs": [],
   "source": [
    "df_slim.head(500)"
   ]
  },
  {
   "cell_type": "code",
   "execution_count": null,
   "id": "35eb7a71-479a-4b26-a46d-c766c4758e5a",
   "metadata": {},
   "outputs": [],
   "source": []
  },
  {
   "cell_type": "code",
   "execution_count": null,
   "id": "ce6da484-88e2-4e50-b74f-396130715e0f",
   "metadata": {},
   "outputs": [],
   "source": [
    "# Strategy\n",
    "# Bullish engulfing candle\n",
    "# price is above the 200 EMA\n",
    "# RSI above 50\n",
    "# enter on candle close\n",
    "# stop at bottom of body\n",
    "# TP is 1.5 the stop\n",
    "\n",
    "BUY = 1\n",
    "SELL = -1\n",
    "NONE = 0\n",
    "RSI_LIMIT = 50.0\n",
    "\n",
    "def trade_signal(row):\n",
    "    # Bullish engulfing candle\n",
    "    if row.ENGULFING == True:\n",
    "        # Buy setting price aboce EMA\n",
    "        if row.direction == BUY and row.mid_l > row.EMA_200:\n",
    "            # check RSI\n",
    "            if row.RSI_14 > RSI_LIMIT:\n",
    "                return BUY\n",
    "# Sell order\n",
    "        if row.direction == SELL and row.mid_h < row.EMA_200:\n",
    "            # check RSI\n",
    "            if row.RSI_14 < RSI_LIMIT:\n",
    "                return SELL\n",
    "    return NONE            "
   ]
  },
  {
   "cell_type": "code",
   "execution_count": null,
   "id": "006ea4b1-a7aa-49f7-93b1-94e3779fb581",
   "metadata": {},
   "outputs": [],
   "source": [
    "# apply our function to the dataframe\n",
    "df_slim[\"SIGNAL\"] = df_slim.apply(trade_signal, axis=1)"
   ]
  },
  {
   "cell_type": "code",
   "execution_count": null,
   "id": "c747cbd6-5508-4815-94e6-6e49cdde1743",
   "metadata": {},
   "outputs": [],
   "source": [
    "# to see how many signals we have\n",
    "df_slim[\"SIGNAL\"].value_counts()"
   ]
  },
  {
   "cell_type": "code",
   "execution_count": null,
   "id": "313d8470-2d13-4cd7-b074-09578482a2bb",
   "metadata": {},
   "outputs": [],
   "source": [
    "# apply take profit and stop\n",
    "RISK = 1.0\n",
    "REWARD = 1.5\n",
    "def take_profit(row):\n",
    "    if row.SIGNAL != NONE:\n",
    "        return(row.mid_c - row.mid_o) * REWARD + row.mid_c\n",
    "    else:\n",
    "        return(0.0)\n",
    "\n",
    "def stop_loss(row):\n",
    "    if row.SIGNAL != NONE:\n",
    "        return row.mid_o\n",
    "    else:\n",
    "        return(0.0)\n",
    "    "
   ]
  },
  {
   "cell_type": "code",
   "execution_count": null,
   "id": "ac065875-0f24-4455-a90c-450113b44a0f",
   "metadata": {},
   "outputs": [],
   "source": [
    "df_slim[\"TAKE_PROFIT\"] = df_slim.apply(take_profit, axis=1)\n",
    "df_slim[\"STOP_LOSS\"] = df_slim.apply(stop_loss, axis=1)"
   ]
  },
  {
   "cell_type": "code",
   "execution_count": null,
   "id": "2a816816-ba35-4261-bee9-1d6ca2da2250",
   "metadata": {},
   "outputs": [],
   "source": [
    "df_slim[df_slim.SIGNAL == BUY].head()"
   ]
  },
  {
   "cell_type": "code",
   "execution_count": null,
   "id": "04798d40-a23b-498f-92be-957e402bd9e0",
   "metadata": {},
   "outputs": [],
   "source": [
    "df_plot = df_slim.iloc[70:104]\n",
    "cp = CandlePlot(df_plot, candles=True)\n",
    "\n",
    "trades = cp.df_plot[df_plot.SIGNAL != NONE]\n",
    "\n",
    "markers = [\"mid_c\", \"TAKE_PROFIT\", \"STOP_LOSS\"]\n",
    "\n",
    "marker_colors = ['blue', 'green', 'red'] "
   ]
  },
  {
   "cell_type": "code",
   "execution_count": null,
   "id": "987c3705-60e8-400e-915d-8c56616b4013",
   "metadata": {},
   "outputs": [],
   "source": [
    "for i in range(3):\n",
    "    cp.fig.add_trace(go.Scatter(\n",
    "        x = trades.sTime,\n",
    "        y = trades[markers[i]],\n",
    "        mode = 'markers',\n",
    "        marker = dict(color=marker_colors[i], size=12)    \n",
    "    ))\n",
    "cp.show_plot(line_traces=[\"EMA_200\"])    "
   ]
  },
  {
   "cell_type": "code",
   "execution_count": null,
   "id": "fb1107df-703d-4a24-bf1b-4d2796810366",
   "metadata": {},
   "outputs": [],
   "source": [
    "# df_results.head()\n",
    "# df_results[df_results.SIGNAL == BUY].head()"
   ]
  },
  {
   "cell_type": "code",
   "execution_count": null,
   "id": "a26ae396-15dd-4624-9b14-d9cf8d4f6ec8",
   "metadata": {},
   "outputs": [],
   "source": [
    "\n",
    "class Trade:\n",
    "    def __init__(self, row):\n",
    "        self.running = True\n",
    "        self.start_index = row.name\n",
    "        self.start_price = row.mid_c\n",
    "        self.trigger_price = row.mid_c \n",
    "        self.SIGNAL = row.SIGNAL\n",
    "        self.TP = row.TAKE_PROFIT\n",
    "        self.SL = row.STOP_LOSS\n",
    "        self.result = 0.0\n",
    "        self.start_time = row.time\n",
    "        self.end_time = row.time\n",
    "        self.duration = 0\n",
    "        \n",
    "\n",
    "    def close_trade(self, row, result, trigger_price):\n",
    "        self.running = False\n",
    "        self.result = result\n",
    "        self.end_time = row.time\n",
    "        self.trigger_price = trigger_price\n",
    "        \n",
    "\n",
    "    def update(self, row):\n",
    "        self.duration +=1\n",
    "        \n",
    "        if self.SIGNAL == BUY:\n",
    "            if row.mid_h >= self.TP:\n",
    "                self.close_trade(row, REWARD, row.mid_h)\n",
    "            elif row.mid_l <= self.SL:  \n",
    "                self.close_trade(row, RISK, row.mid_l)\n",
    "\n",
    "\n",
    "        if self.SIGNAL == SELL:\n",
    "            if row.mid_l <= self.TP:\n",
    "                self.close_trade(row, REWARD, row.mid_l)\n",
    "            elif row.mid_h >= self.SL:  \n",
    "                self.close_trade(row, RISK, row.mid_h)"
   ]
  },
  {
   "cell_type": "code",
   "execution_count": null,
   "id": "d0c39f80-870b-448f-9ac4-e5238e38dff3",
   "metadata": {},
   "outputs": [],
   "source": [
    "open_trades = []\n",
    "closed_trades = []\n",
    "\n",
    "for index, row in df_slim.iterrows():\n",
    "    for ot in open_trades:\n",
    "        ot.update(row)\n",
    "        if ot.running == False:\n",
    "            closed_trades.append(ot)\n",
    "    open_trades = [x for x in open_trades if x.running == True]        \n",
    "\n",
    "    if row.SIGNAL != NONE:\n",
    "        open_trades.append(Trade(row))"
   ]
  },
  {
   "cell_type": "code",
   "execution_count": null,
   "id": "c4566b05-2eae-4517-8ce6-76d7a327ba32",
   "metadata": {},
   "outputs": [],
   "source": [
    "len(open_trades)"
   ]
  },
  {
   "cell_type": "code",
   "execution_count": null,
   "id": "f060815f-33ee-4447-aabd-9db919a51457",
   "metadata": {},
   "outputs": [],
   "source": [
    "len(closed_trades)"
   ]
  },
  {
   "cell_type": "code",
   "execution_count": null,
   "id": "26774a7b-1f89-416c-b0ed-81fb81ce23ba",
   "metadata": {},
   "outputs": [],
   "source": [
    "vars(closed_trades[0])"
   ]
  },
  {
   "cell_type": "code",
   "execution_count": null,
   "id": "ffd6f572-e6b9-4274-9dbc-b5190fd44f7b",
   "metadata": {},
   "outputs": [],
   "source": [
    "df_results = pd.DataFrame.from_dict([vars(x) for x in closed_trades])"
   ]
  },
  {
   "cell_type": "code",
   "execution_count": null,
   "id": "a087cdf6-484f-4e5f-ab8d-a886a098e64b",
   "metadata": {},
   "outputs": [],
   "source": [
    "df_results"
   ]
  },
  {
   "cell_type": "code",
   "execution_count": null,
   "id": "c1519031-3fea-41c0-8749-4d1ca46f302c",
   "metadata": {},
   "outputs": [],
   "source": [
    "df_results.result.sum()"
   ]
  },
  {
   "cell_type": "code",
   "execution_count": null,
   "id": "c2e36b96-b6b3-408f-8b79-6b25dcdda9ef",
   "metadata": {},
   "outputs": [],
   "source": [
    "df_results.sort_values(by=\"start_index\", inplace=True)"
   ]
  },
  {
   "cell_type": "code",
   "execution_count": null,
   "id": "cc41a541-7c50-4d36-b7c7-780fd998ce9a",
   "metadata": {},
   "outputs": [],
   "source": [
    "df_m5 = pd.read_pickle(\"../data/EUR_USD_M5.pkl\")"
   ]
  },
  {
   "cell_type": "code",
   "execution_count": null,
   "id": "51d3c126-5161-46fe-a4fd-9f26cfd142a6",
   "metadata": {},
   "outputs": [],
   "source": [
    "df_m5.shape"
   ]
  },
  {
   "cell_type": "code",
   "execution_count": null,
   "id": "6a88c8c3-bb3f-45bc-ba26-a464c30e90d6",
   "metadata": {},
   "outputs": [],
   "source": [
    "df_m5.time.max()"
   ]
  },
  {
   "cell_type": "code",
   "execution_count": null,
   "id": "bcba4ab2-db8d-4657-b1cf-d586da50aacf",
   "metadata": {},
   "outputs": [],
   "source": [
    "df_raw.time.max()"
   ]
  },
  {
   "cell_type": "code",
   "execution_count": null,
   "id": "aff5741d-c4ef-409e-93f0-18cc8ef6d3d7",
   "metadata": {},
   "outputs": [],
   "source": [
    "from dateutil import parser"
   ]
  },
  {
   "cell_type": "code",
   "execution_count": null,
   "id": "173ef700-fc5c-4554-b890-fc5ffe25f92d",
   "metadata": {},
   "outputs": [],
   "source": [
    "time_min = parser.parse('2021-12-15T10:00:00Z')\n",
    "time_max = parser.parse('2021-12-15T11:00:00Z')"
   ]
  },
  {
   "cell_type": "code",
   "execution_count": null,
   "id": "3d7daace-cbdf-4950-bc6d-d2e6b982f99a",
   "metadata": {},
   "outputs": [],
   "source": [
    "pd.options.display.max_columns = None\n",
    "pd.options.display.max_rows = None"
   ]
  },
  {
   "cell_type": "code",
   "execution_count": null,
   "id": "065ab762-3c7f-49cf-a85c-250d3c377234",
   "metadata": {},
   "outputs": [],
   "source": [
    "df_m5_start = df_m5[(df_m5.time >= time_min) & (df_m5.time <= time_max)] \n",
    "df_raw_start = df_raw[(df_raw.time >= time_min) & (df_raw.time <= time_max)] \n",
    "\n"
   ]
  },
  {
   "cell_type": "code",
   "execution_count": null,
   "id": "53d66b38-18a5-4111-98b8-83c72c748e4e",
   "metadata": {},
   "outputs": [],
   "source": [
    "df_raw_start "
   ]
  },
  {
   "cell_type": "code",
   "execution_count": null,
   "id": "43f7fa8d-2fe6-404f-b3c7-e169a9cd316a",
   "metadata": {},
   "outputs": [],
   "source": [
    "df_m5_slim = df_m5[['time', 'mid_h', 'mid_l']].copy()"
   ]
  },
  {
   "cell_type": "code",
   "execution_count": null,
   "id": "5cf9f6f7-cd29-411c-8c31-a2058e94c749",
   "metadata": {},
   "outputs": [],
   "source": [
    "df_m5_slim"
   ]
  },
  {
   "cell_type": "code",
   "execution_count": null,
   "id": "891ee8d6-50c8-4eea-863c-8691cd07138c",
   "metadata": {},
   "outputs": [],
   "source": [
    "df_signals = df_slim[df_slim.SIGNAL != NONE].copy()"
   ]
  },
  {
   "cell_type": "code",
   "execution_count": null,
   "id": "e5513848-29d9-4a4c-8760-5ae8ae60166f",
   "metadata": {},
   "outputs": [],
   "source": [
    "df_signals['m5_start'] = [x + dt.timedelta(hours=1) for x in df_signals.time]"
   ]
  },
  {
   "cell_type": "code",
   "execution_count": null,
   "id": "bd9b7b4a-421c-46c1-a99d-a976368209ba",
   "metadata": {},
   "outputs": [],
   "source": [
    "df_signals['m5_start']"
   ]
  },
  {
   "cell_type": "code",
   "execution_count": null,
   "id": "0feb79a1-e681-46b1-bc33-04f979259de4",
   "metadata": {},
   "outputs": [],
   "source": [
    "df_signals['start_index_h1'] = df_signals.index"
   ]
  },
  {
   "cell_type": "code",
   "execution_count": null,
   "id": "894d1a31-6558-41c1-bfd5-29a0d0aa8f9d",
   "metadata": {},
   "outputs": [],
   "source": [
    "df_signals.head()"
   ]
  },
  {
   "cell_type": "code",
   "execution_count": null,
   "id": "93818624-e342-4e81-b685-98bcfca7df0b",
   "metadata": {},
   "outputs": [],
   "source": [
    "df_signals.columns"
   ]
  },
  {
   "cell_type": "code",
   "execution_count": null,
   "id": "87cc38a6-78f2-4dcd-832a-12060a113058",
   "metadata": {},
   "outputs": [],
   "source": [
    "df_signals.drop(['time', 'mid_o', 'mid_h', 'mid_l', 'bid_c', 'ask_c', 'ENGULFING',  'EMA_200', 'RSI_14', 'direction'], inplace=True, axis=1)"
   ]
  },
  {
   "cell_type": "code",
   "execution_count": null,
   "id": "a309c737-f9c0-4b99-bb4a-9b2d10d9f959",
   "metadata": {},
   "outputs": [],
   "source": [
    "df_signals.head()"
   ]
  },
  {
   "cell_type": "code",
   "execution_count": null,
   "id": "e1806dd5-8d88-43a3-9050-95fe0d14f620",
   "metadata": {},
   "outputs": [],
   "source": [
    "df_signals.rename(columns=dict(\n",
    "    mid_c = 'start_price',\n",
    "    m5_start = 'time'  \n",
    "), inplace=True)"
   ]
  },
  {
   "cell_type": "code",
   "execution_count": null,
   "id": "6df033d8-1e5a-476f-b30e-da6449c1fced",
   "metadata": {},
   "outputs": [],
   "source": [
    "df_signals.head(2)\n",
    "\n"
   ]
  },
  {
   "cell_type": "code",
   "execution_count": null,
   "id": "3ede1f37-6efc-4c1d-9c84-390897a0d07e",
   "metadata": {},
   "outputs": [],
   "source": [
    "\n",
    "df_m5_slim.head(2)"
   ]
  },
  {
   "cell_type": "code",
   "execution_count": null,
   "id": "7cb53fd6-67ad-4cd9-b1ad-b55b5079a238",
   "metadata": {},
   "outputs": [],
   "source": [
    "merged = pd.merge(left=df_m5_slim, right=df_signals, on='time', how='left')"
   ]
  },
  {
   "cell_type": "code",
   "execution_count": null,
   "id": "d3216ea5-a96a-4fb6-b7c7-3b621e8b0d21",
   "metadata": {},
   "outputs": [],
   "source": [
    "merged.fillna(0, inplace=True)"
   ]
  },
  {
   "cell_type": "code",
   "execution_count": null,
   "id": "e45e458b-67a9-46ce-85d2-02ca29968489",
   "metadata": {},
   "outputs": [],
   "source": [
    "merged.SIGNAL = merged.SIGNAL.astype(int)\n",
    "merged.SIGNAL = merged.start_index_h1.astype(int)"
   ]
  },
  {
   "cell_type": "code",
   "execution_count": null,
   "id": "7d993541-5c5d-4664-a567-27595f052dc6",
   "metadata": {},
   "outputs": [],
   "source": [
    "merged.head()"
   ]
  },
  {
   "cell_type": "code",
   "execution_count": null,
   "id": "48eb8b05-dcde-4363-ab70-41e5376a9769",
   "metadata": {},
   "outputs": [],
   "source": [
    "class TradeM5:\n",
    "    def __init__(self, row):\n",
    "        self.running = True\n",
    "        self.start_index_m5 = row.name\n",
    "        self.start_index_h1 = row.start_index_h1\n",
    "        self.start_price = row.start_price\n",
    "        self.trigger_price = row.start_price\n",
    "        self.SIGNAL = row.SIGNAL\n",
    "        self.TP = row.TAKE_PROFIT\n",
    "        self.SL = row.STOP_LOSS\n",
    "        self.result = 0.0\n",
    "        self.start_time = row.time\n",
    "        self.end_time = row.time\n",
    "        self.duration = 0\n",
    "        \n",
    "\n",
    "    def close_trade(self, row, result, trigger_price):\n",
    "        self.running = False\n",
    "        self.result = result\n",
    "        self.end_time = row.time\n",
    "        self.trigger_price = trigger_price\n",
    "        \n",
    "\n",
    "    def update(self, row):\n",
    "        self.duration +=1\n",
    "        \n",
    "        if self.SIGNAL == BUY:\n",
    "            if row.mid_h >= self.TP:\n",
    "                self.close_trade(row, REWARD, row.mid_h)\n",
    "            elif row.mid_l <= self.SL:  \n",
    "                self.close_trade(row, RISK, row.mid_l)\n",
    "\n",
    "\n",
    "        if self.SIGNAL == SELL:\n",
    "            if row.mid_l <= self.TP:\n",
    "                self.close_trade(row, REWARD, row.mid_l)\n",
    "            elif row.mid_h >= self.SL:  \n",
    "                self.close_trade(row, RISK, row.mid_h)\n",
    "        "
   ]
  },
  {
   "cell_type": "code",
   "execution_count": null,
   "id": "56613c3a",
   "metadata": {},
   "outputs": [],
   "source": [
    "open_trades_m5 = []\n",
    "closed_trades_m5 = []\n",
    "\n",
    "for index, row in merged.iterrows():\n",
    "    if row.SIGNAL != NONE:\n",
    "        open_trades_m5.append(TradeM5(row))\n",
    "    for ot in open_trades_m5:\n",
    "        ot.update(row)\n",
    "        if ot.running == False:\n",
    "            closed_trades_m5.append(ot)\n",
    "    open_trades_m5 = [x for x in open_trades_m5 if x.running == True]        \n",
    "\n"
   ]
  },
  {
   "cell_type": "code",
   "execution_count": 27,
   "id": "816ad26d",
   "metadata": {},
   "outputs": [
    {
     "ename": "NameError",
     "evalue": "name 'closed_trades_m5' is not defined",
     "output_type": "error",
     "traceback": [
      "\u001b[1;31m---------------------------------------------------------------------------\u001b[0m",
      "\u001b[1;31mNameError\u001b[0m                                 Traceback (most recent call last)",
      "Cell \u001b[1;32mIn[27], line 1\u001b[0m\n\u001b[1;32m----> 1\u001b[0m \u001b[38;5;28mlen\u001b[39m(\u001b[43mclosed_trades_m5\u001b[49m)\n",
      "\u001b[1;31mNameError\u001b[0m: name 'closed_trades_m5' is not defined"
     ]
    }
   ],
   "source": [
    "len(closed_trades_m5)"
   ]
  },
  {
   "cell_type": "code",
   "execution_count": null,
   "id": "4e894775",
   "metadata": {},
   "outputs": [],
   "source": []
  },
  {
   "cell_type": "code",
   "execution_count": null,
   "id": "cce888af",
   "metadata": {},
   "outputs": [],
   "source": []
  },
  {
   "cell_type": "code",
   "execution_count": null,
   "id": "90e86cc7",
   "metadata": {},
   "outputs": [],
   "source": []
  },
  {
   "cell_type": "code",
   "execution_count": null,
   "id": "b10ffc43",
   "metadata": {},
   "outputs": [],
   "source": []
  },
  {
   "cell_type": "code",
   "execution_count": null,
   "id": "aaaa08e3",
   "metadata": {},
   "outputs": [],
   "source": []
  },
  {
   "cell_type": "code",
   "execution_count": null,
   "id": "dab86d0a",
   "metadata": {},
   "outputs": [],
   "source": []
  },
  {
   "cell_type": "code",
   "execution_count": null,
   "id": "9b046af2",
   "metadata": {},
   "outputs": [],
   "source": []
  },
  {
   "cell_type": "code",
   "execution_count": null,
   "id": "ddf5ef2e",
   "metadata": {},
   "outputs": [],
   "source": []
  },
  {
   "cell_type": "code",
   "execution_count": null,
   "id": "9d3b540b",
   "metadata": {},
   "outputs": [],
   "source": []
  },
  {
   "cell_type": "code",
   "execution_count": null,
   "id": "58e9c297",
   "metadata": {},
   "outputs": [],
   "source": []
  },
  {
   "cell_type": "code",
   "execution_count": null,
   "id": "7bd6a474",
   "metadata": {},
   "outputs": [],
   "source": []
  },
  {
   "cell_type": "code",
   "execution_count": null,
   "id": "9a624652",
   "metadata": {},
   "outputs": [],
   "source": []
  },
  {
   "cell_type": "code",
   "execution_count": null,
   "id": "b176381e",
   "metadata": {},
   "outputs": [],
   "source": []
  }
 ],
 "metadata": {
  "kernelspec": {
   "display_name": "Python 3 (ipykernel)",
   "language": "python",
   "name": "python3"
  },
  "language_info": {
   "codemirror_mode": {
    "name": "ipython",
    "version": 3
   },
   "file_extension": ".py",
   "mimetype": "text/x-python",
   "name": "python",
   "nbconvert_exporter": "python",
   "pygments_lexer": "ipython3",
   "version": "3.10.0"
  }
 },
 "nbformat": 4,
 "nbformat_minor": 5
}
